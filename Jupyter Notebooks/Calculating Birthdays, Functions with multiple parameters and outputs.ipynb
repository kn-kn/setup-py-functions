{
 "cells": [
  {
   "cell_type": "markdown",
   "metadata": {},
   "source": [
    "# Table of contents\n",
    "\n",
    "1. [Calculating Age Based on Todays Date](#introduction)\n",
    "    1. [Completing the Function](#paragraph1)\n",
    "\n",
    "2. [Creating a function with multiple optional parameters and outputs](#paragraph2)\n",
    "    1. [Function with True/False Parameter](#paragraph3)\n",
    "    2. [Function with a Column Parameter](#paragraph4)\n",
    "    3. [Function with a Multiple Outputs](#paragraph5)\n",
    "3. [Index](#paragraph6)"
   ]
  },
  {
   "cell_type": "markdown",
   "metadata": {},
   "source": [
    "## Calculating Age Based on Todays Date <a name=\"introduction\"></a>\n",
    "\n",
    "If you are ever tasked with calculating age, you can create a function like below."
   ]
  },
  {
   "cell_type": "code",
   "execution_count": 1,
   "metadata": {},
   "outputs": [],
   "source": [
    "import pandas as pd\n",
    "import numpy as np"
   ]
  },
  {
   "cell_type": "markdown",
   "metadata": {},
   "source": [
    "Lets generate some random dates to work with. You don't need to copy this code as it is used to generate a dataframe with a column of random dates"
   ]
  },
  {
   "cell_type": "code",
   "execution_count": 2,
   "metadata": {
    "scrolled": true
   },
   "outputs": [
    {
     "data": {
      "text/html": [
       "<div>\n",
       "<style scoped>\n",
       "    .dataframe tbody tr th:only-of-type {\n",
       "        vertical-align: middle;\n",
       "    }\n",
       "\n",
       "    .dataframe tbody tr th {\n",
       "        vertical-align: top;\n",
       "    }\n",
       "\n",
       "    .dataframe thead th {\n",
       "        text-align: right;\n",
       "    }\n",
       "</style>\n",
       "<table border=\"1\" class=\"dataframe\">\n",
       "  <thead>\n",
       "    <tr style=\"text-align: right;\">\n",
       "      <th></th>\n",
       "      <th>Birthday</th>\n",
       "    </tr>\n",
       "  </thead>\n",
       "  <tbody>\n",
       "    <tr>\n",
       "      <th>0</th>\n",
       "      <td>1955-09-20 02:55:02</td>\n",
       "    </tr>\n",
       "    <tr>\n",
       "      <th>1</th>\n",
       "      <td>1984-12-19 02:02:49</td>\n",
       "    </tr>\n",
       "    <tr>\n",
       "      <th>2</th>\n",
       "      <td>1992-08-01 11:02:08</td>\n",
       "    </tr>\n",
       "    <tr>\n",
       "      <th>3</th>\n",
       "      <td>1978-10-14 04:56:37</td>\n",
       "    </tr>\n",
       "    <tr>\n",
       "      <th>4</th>\n",
       "      <td>1983-04-13 22:06:53</td>\n",
       "    </tr>\n",
       "    <tr>\n",
       "      <th>5</th>\n",
       "      <td>1976-08-14 22:50:27</td>\n",
       "    </tr>\n",
       "    <tr>\n",
       "      <th>6</th>\n",
       "      <td>1951-01-20 20:24:45</td>\n",
       "    </tr>\n",
       "    <tr>\n",
       "      <th>7</th>\n",
       "      <td>1987-10-01 07:25:01</td>\n",
       "    </tr>\n",
       "    <tr>\n",
       "      <th>8</th>\n",
       "      <td>1977-01-25 16:38:40</td>\n",
       "    </tr>\n",
       "    <tr>\n",
       "      <th>9</th>\n",
       "      <td>1974-01-31 06:30:08</td>\n",
       "    </tr>\n",
       "  </tbody>\n",
       "</table>\n",
       "</div>"
      ],
      "text/plain": [
       "             Birthday\n",
       "0 1955-09-20 02:55:02\n",
       "1 1984-12-19 02:02:49\n",
       "2 1992-08-01 11:02:08\n",
       "3 1978-10-14 04:56:37\n",
       "4 1983-04-13 22:06:53\n",
       "5 1976-08-14 22:50:27\n",
       "6 1951-01-20 20:24:45\n",
       "7 1987-10-01 07:25:01\n",
       "8 1977-01-25 16:38:40\n",
       "9 1974-01-31 06:30:08"
      ]
     },
     "execution_count": 2,
     "metadata": {},
     "output_type": "execute_result"
    }
   ],
   "source": [
    "# Generate some random dates to work with\n",
    "def random_dates(start, end, n=10):\n",
    "    start_u = start.value//10**9\n",
    "    end_u = end.value//10**9\n",
    "    return pd.to_datetime(np.random.randint(start_u, end_u, n), unit='s')\n",
    "\n",
    "start = pd.to_datetime('1950-01-01')\n",
    "end = pd.to_datetime('1999-01-01')\n",
    "list_of_dates = random_dates(start, end)\n",
    "\n",
    "df = pd.DataFrame(list_of_dates, columns=['Birthday'])\n",
    "df"
   ]
  },
  {
   "cell_type": "markdown",
   "metadata": {},
   "source": [
    "Now that we have a dataframe to work with, first create a variable called `end_date` which contains todays date:"
   ]
  },
  {
   "cell_type": "code",
   "execution_count": 3,
   "metadata": {},
   "outputs": [
    {
     "data": {
      "text/plain": [
       "Timestamp('2020-07-18 00:00:00')"
      ]
     },
     "execution_count": 3,
     "metadata": {},
     "output_type": "execute_result"
    }
   ],
   "source": [
    "end_date = pd.Timestamp.now().normalize()\n",
    "end_date"
   ]
  },
  {
   "cell_type": "markdown",
   "metadata": {},
   "source": [
    "Now we can create our function and then `apply()` it to our date column:"
   ]
  },
  {
   "cell_type": "markdown",
   "metadata": {},
   "source": [
    "## Completing the Function <a name=\"paragraph1\"></a>"
   ]
  },
  {
   "cell_type": "code",
   "execution_count": 4,
   "metadata": {},
   "outputs": [],
   "source": [
    "# Function to calculate age based on today's date\n",
    "def calculate_age(born):\n",
    "    return end_date.year - born.year - ((end_date.month, end_date.day) < (born.month, born.day))"
   ]
  },
  {
   "cell_type": "code",
   "execution_count": 5,
   "metadata": {},
   "outputs": [],
   "source": [
    "# Apply the above function and create a new column for age\n",
    "df['Age'] = df['Birthday'].apply(calculate_age)"
   ]
  },
  {
   "cell_type": "code",
   "execution_count": 6,
   "metadata": {
    "scrolled": true
   },
   "outputs": [
    {
     "data": {
      "text/html": [
       "<div>\n",
       "<style scoped>\n",
       "    .dataframe tbody tr th:only-of-type {\n",
       "        vertical-align: middle;\n",
       "    }\n",
       "\n",
       "    .dataframe tbody tr th {\n",
       "        vertical-align: top;\n",
       "    }\n",
       "\n",
       "    .dataframe thead th {\n",
       "        text-align: right;\n",
       "    }\n",
       "</style>\n",
       "<table border=\"1\" class=\"dataframe\">\n",
       "  <thead>\n",
       "    <tr style=\"text-align: right;\">\n",
       "      <th></th>\n",
       "      <th>Birthday</th>\n",
       "      <th>Age</th>\n",
       "    </tr>\n",
       "  </thead>\n",
       "  <tbody>\n",
       "    <tr>\n",
       "      <th>0</th>\n",
       "      <td>1955-09-20 02:55:02</td>\n",
       "      <td>64</td>\n",
       "    </tr>\n",
       "    <tr>\n",
       "      <th>1</th>\n",
       "      <td>1984-12-19 02:02:49</td>\n",
       "      <td>35</td>\n",
       "    </tr>\n",
       "    <tr>\n",
       "      <th>2</th>\n",
       "      <td>1992-08-01 11:02:08</td>\n",
       "      <td>27</td>\n",
       "    </tr>\n",
       "    <tr>\n",
       "      <th>3</th>\n",
       "      <td>1978-10-14 04:56:37</td>\n",
       "      <td>41</td>\n",
       "    </tr>\n",
       "    <tr>\n",
       "      <th>4</th>\n",
       "      <td>1983-04-13 22:06:53</td>\n",
       "      <td>37</td>\n",
       "    </tr>\n",
       "    <tr>\n",
       "      <th>5</th>\n",
       "      <td>1976-08-14 22:50:27</td>\n",
       "      <td>43</td>\n",
       "    </tr>\n",
       "    <tr>\n",
       "      <th>6</th>\n",
       "      <td>1951-01-20 20:24:45</td>\n",
       "      <td>69</td>\n",
       "    </tr>\n",
       "    <tr>\n",
       "      <th>7</th>\n",
       "      <td>1987-10-01 07:25:01</td>\n",
       "      <td>32</td>\n",
       "    </tr>\n",
       "    <tr>\n",
       "      <th>8</th>\n",
       "      <td>1977-01-25 16:38:40</td>\n",
       "      <td>43</td>\n",
       "    </tr>\n",
       "    <tr>\n",
       "      <th>9</th>\n",
       "      <td>1974-01-31 06:30:08</td>\n",
       "      <td>46</td>\n",
       "    </tr>\n",
       "  </tbody>\n",
       "</table>\n",
       "</div>"
      ],
      "text/plain": [
       "             Birthday  Age\n",
       "0 1955-09-20 02:55:02   64\n",
       "1 1984-12-19 02:02:49   35\n",
       "2 1992-08-01 11:02:08   27\n",
       "3 1978-10-14 04:56:37   41\n",
       "4 1983-04-13 22:06:53   37\n",
       "5 1976-08-14 22:50:27   43\n",
       "6 1951-01-20 20:24:45   69\n",
       "7 1987-10-01 07:25:01   32\n",
       "8 1977-01-25 16:38:40   43\n",
       "9 1974-01-31 06:30:08   46"
      ]
     },
     "execution_count": 6,
     "metadata": {},
     "output_type": "execute_result"
    }
   ],
   "source": [
    "df"
   ]
  },
  {
   "cell_type": "markdown",
   "metadata": {},
   "source": [
    "## Creating a function with multiple optional parameters and outputs <a name=\"paragraph2\"></a>\n",
    "\n",
    "When creating a function, sometimes parameters are optional if the user needs to specify a specific option. \n",
    "\n",
    "* For example, if you are calculating total profit a month you can have an optional parameter that allows you to split the results by gender, if required by the user.\n",
    "\n",
    "* A function can also return multiple results; this could be handy if there are multiple different dataframes you need in the output.\n",
    "\n",
    "We'll be using the [superstore dataset](https://github.com/kn-kn/setup-py-functions/blob/master/Sample_Superstore_Data.xls) for our example."
   ]
  },
  {
   "cell_type": "code",
   "execution_count": 7,
   "metadata": {},
   "outputs": [],
   "source": [
    "import pandas as pd"
   ]
  },
  {
   "cell_type": "code",
   "execution_count": 8,
   "metadata": {},
   "outputs": [],
   "source": [
    "# Import Data\n",
    "df = pd.read_excel(\"Sample_Superstore_Data.xls\")"
   ]
  },
  {
   "cell_type": "code",
   "execution_count": 9,
   "metadata": {
    "scrolled": true
   },
   "outputs": [
    {
     "data": {
      "text/html": [
       "<div>\n",
       "<style scoped>\n",
       "    .dataframe tbody tr th:only-of-type {\n",
       "        vertical-align: middle;\n",
       "    }\n",
       "\n",
       "    .dataframe tbody tr th {\n",
       "        vertical-align: top;\n",
       "    }\n",
       "\n",
       "    .dataframe thead th {\n",
       "        text-align: right;\n",
       "    }\n",
       "</style>\n",
       "<table border=\"1\" class=\"dataframe\">\n",
       "  <thead>\n",
       "    <tr style=\"text-align: right;\">\n",
       "      <th></th>\n",
       "      <th>Row ID</th>\n",
       "      <th>Order ID</th>\n",
       "      <th>Order Date</th>\n",
       "      <th>Ship Date</th>\n",
       "      <th>Ship Mode</th>\n",
       "      <th>Customer ID</th>\n",
       "      <th>Customer Name</th>\n",
       "      <th>Segment</th>\n",
       "      <th>Country</th>\n",
       "      <th>City</th>\n",
       "      <th>...</th>\n",
       "      <th>Postal Code</th>\n",
       "      <th>Region</th>\n",
       "      <th>Product ID</th>\n",
       "      <th>Category</th>\n",
       "      <th>Sub-Category</th>\n",
       "      <th>Product Name</th>\n",
       "      <th>Sales</th>\n",
       "      <th>Quantity</th>\n",
       "      <th>Discount</th>\n",
       "      <th>Profit</th>\n",
       "    </tr>\n",
       "  </thead>\n",
       "  <tbody>\n",
       "    <tr>\n",
       "      <th>0</th>\n",
       "      <td>1</td>\n",
       "      <td>CA-2013-152156</td>\n",
       "      <td>2013-11-09</td>\n",
       "      <td>2013-11-12</td>\n",
       "      <td>Second Class</td>\n",
       "      <td>CG-12520</td>\n",
       "      <td>Claire Gute</td>\n",
       "      <td>Consumer</td>\n",
       "      <td>United States</td>\n",
       "      <td>Henderson</td>\n",
       "      <td>...</td>\n",
       "      <td>42420</td>\n",
       "      <td>South</td>\n",
       "      <td>FUR-BO-10001798</td>\n",
       "      <td>Furniture</td>\n",
       "      <td>Bookcases</td>\n",
       "      <td>Bush Somerset Collection Bookcase</td>\n",
       "      <td>261.96</td>\n",
       "      <td>2</td>\n",
       "      <td>0.0</td>\n",
       "      <td>41.9136</td>\n",
       "    </tr>\n",
       "    <tr>\n",
       "      <th>1</th>\n",
       "      <td>2</td>\n",
       "      <td>CA-2013-152156</td>\n",
       "      <td>2013-11-09</td>\n",
       "      <td>2013-11-12</td>\n",
       "      <td>Second Class</td>\n",
       "      <td>CG-12520</td>\n",
       "      <td>Claire Gute</td>\n",
       "      <td>Consumer</td>\n",
       "      <td>United States</td>\n",
       "      <td>Henderson</td>\n",
       "      <td>...</td>\n",
       "      <td>42420</td>\n",
       "      <td>South</td>\n",
       "      <td>FUR-CH-10000454</td>\n",
       "      <td>Furniture</td>\n",
       "      <td>Chairs</td>\n",
       "      <td>Hon Deluxe Fabric Upholstered Stacking Chairs,...</td>\n",
       "      <td>731.94</td>\n",
       "      <td>3</td>\n",
       "      <td>0.0</td>\n",
       "      <td>219.5820</td>\n",
       "    </tr>\n",
       "    <tr>\n",
       "      <th>2</th>\n",
       "      <td>3</td>\n",
       "      <td>CA-2013-138688</td>\n",
       "      <td>2013-06-13</td>\n",
       "      <td>2013-06-17</td>\n",
       "      <td>Second Class</td>\n",
       "      <td>DV-13045</td>\n",
       "      <td>Darrin Van Huff</td>\n",
       "      <td>Corporate</td>\n",
       "      <td>United States</td>\n",
       "      <td>Los Angeles</td>\n",
       "      <td>...</td>\n",
       "      <td>90036</td>\n",
       "      <td>West</td>\n",
       "      <td>OFF-LA-10000240</td>\n",
       "      <td>Office Supplies</td>\n",
       "      <td>Labels</td>\n",
       "      <td>Self-Adhesive Address Labels for Typewriters b...</td>\n",
       "      <td>14.62</td>\n",
       "      <td>2</td>\n",
       "      <td>0.0</td>\n",
       "      <td>6.8714</td>\n",
       "    </tr>\n",
       "  </tbody>\n",
       "</table>\n",
       "<p>3 rows × 21 columns</p>\n",
       "</div>"
      ],
      "text/plain": [
       "   Row ID        Order ID Order Date  Ship Date     Ship Mode Customer ID  \\\n",
       "0       1  CA-2013-152156 2013-11-09 2013-11-12  Second Class    CG-12520   \n",
       "1       2  CA-2013-152156 2013-11-09 2013-11-12  Second Class    CG-12520   \n",
       "2       3  CA-2013-138688 2013-06-13 2013-06-17  Second Class    DV-13045   \n",
       "\n",
       "     Customer Name    Segment        Country         City  ... Postal Code  \\\n",
       "0      Claire Gute   Consumer  United States    Henderson  ...       42420   \n",
       "1      Claire Gute   Consumer  United States    Henderson  ...       42420   \n",
       "2  Darrin Van Huff  Corporate  United States  Los Angeles  ...       90036   \n",
       "\n",
       "   Region       Product ID         Category Sub-Category  \\\n",
       "0   South  FUR-BO-10001798        Furniture    Bookcases   \n",
       "1   South  FUR-CH-10000454        Furniture       Chairs   \n",
       "2    West  OFF-LA-10000240  Office Supplies       Labels   \n",
       "\n",
       "                                        Product Name   Sales  Quantity  \\\n",
       "0                  Bush Somerset Collection Bookcase  261.96         2   \n",
       "1  Hon Deluxe Fabric Upholstered Stacking Chairs,...  731.94         3   \n",
       "2  Self-Adhesive Address Labels for Typewriters b...   14.62         2   \n",
       "\n",
       "   Discount    Profit  \n",
       "0       0.0   41.9136  \n",
       "1       0.0  219.5820  \n",
       "2       0.0    6.8714  \n",
       "\n",
       "[3 rows x 21 columns]"
      ]
     },
     "execution_count": 9,
     "metadata": {},
     "output_type": "execute_result"
    }
   ],
   "source": [
    "df.head(3)"
   ]
  },
  {
   "cell_type": "markdown",
   "metadata": {},
   "source": [
    "## Function with True/False Parameter <a name=\"paragraph3\"></a>\n",
    "\n",
    "Lets create a function that has multiple parameters. It will read in the superstore data and calculate total profit."
   ]
  },
  {
   "cell_type": "code",
   "execution_count": 10,
   "metadata": {},
   "outputs": [],
   "source": [
    "def superstore_profit():\n",
    "    df = pd.read_excel(\"Sample_Superstore_Data.xls\")\n",
    "    df_profit = df['Profit'].sum()"
   ]
  },
  {
   "cell_type": "markdown",
   "metadata": {},
   "source": [
    "Now we can add a parameter that will allow the user to choose if they want to calculate profit *but* by region.\n",
    "\n",
    "By default, we will leave `region=False`. If the user sets it to `True`, then the function will calculate profit based on region. If the user leaves this parameter blank, then the function automatically assumes the default answer, `False`"
   ]
  },
  {
   "cell_type": "code",
   "execution_count": 11,
   "metadata": {},
   "outputs": [],
   "source": [
    "def superstore_profit(region=False):\n",
    "    df = pd.read_excel(\"Sample_Superstore_Data.xls\")\n",
    "    \n",
    "    # If region is True, then do this: \n",
    "    if region:\n",
    "        df_profit = df.groupby('Region')['Profit'].sum()\n",
    "    # Else if its False, then do this:\n",
    "    else:\n",
    "        df_profit = df['Profit'].sum()\n",
    "        \n",
    "    print(df_profit)"
   ]
  },
  {
   "cell_type": "markdown",
   "metadata": {},
   "source": [
    "Lets see what happens when we:\n",
    "\n",
    "* Leave the parameter empty\n",
    "* Specify `True`\n",
    "* Specify `False`"
   ]
  },
  {
   "cell_type": "code",
   "execution_count": 12,
   "metadata": {
    "scrolled": true
   },
   "outputs": [
    {
     "name": "stdout",
     "output_type": "stream",
     "text": [
      "286397.0216999999\n"
     ]
    }
   ],
   "source": [
    "# Leave it empty\n",
    "superstore_profit()"
   ]
  },
  {
   "cell_type": "code",
   "execution_count": 13,
   "metadata": {},
   "outputs": [
    {
     "name": "stdout",
     "output_type": "stream",
     "text": [
      "Region\n",
      "Central     39706.3625\n",
      "East        91522.7800\n",
      "South       46749.4303\n",
      "West       108418.4489\n",
      "Name: Profit, dtype: float64\n"
     ]
    }
   ],
   "source": [
    "# Specify it True\n",
    "superstore_profit(region=True)"
   ]
  },
  {
   "cell_type": "code",
   "execution_count": 14,
   "metadata": {},
   "outputs": [
    {
     "name": "stdout",
     "output_type": "stream",
     "text": [
      "286397.0216999999\n"
     ]
    }
   ],
   "source": [
    "# Specify it False\n",
    "superstore_profit(region=False)"
   ]
  },
  {
   "cell_type": "markdown",
   "metadata": {},
   "source": [
    "## Function with a Column Parameter <a name=\"paragraph4\"></a>\n",
    "\n",
    "We can create a parameter that focuses on a name of a column instead.\n",
    "\n",
    "Lets say sometimes you would rather calculate `sales` instead of `profit`. You can this to be a parameter the user inputs if they desire to.\n",
    "\n",
    "Lets start by adding the new parameter to our previously created function:"
   ]
  },
  {
   "cell_type": "code",
   "execution_count": 15,
   "metadata": {},
   "outputs": [],
   "source": [
    "def superstore_profit(region=False, aggregate='Profit'):\n",
    "    df = pd.read_excel(\"Sample_Superstore_Data.xls\")\n",
    "    \n",
    "    if region:\n",
    "        df_profit = df.groupby('Region')[aggregate].sum()\n",
    "    else:\n",
    "        df_profit = df[aggregate].sum()\n",
    "        \n",
    "    print(df_profit)"
   ]
  },
  {
   "cell_type": "markdown",
   "metadata": {},
   "source": [
    "What you see above is I created a new parameter called `aggregate` and gave it the default value of `Profit`. \n",
    "\n",
    "If the user does not input anything, profit will be calculated. If the user chooses to, they can specify a different column to calculate instead. Lets see what happens when I input:\n",
    "\n",
    "* Nothing\n",
    "* `Sales`\n",
    "* `Quantity`"
   ]
  },
  {
   "cell_type": "code",
   "execution_count": 16,
   "metadata": {},
   "outputs": [
    {
     "name": "stdout",
     "output_type": "stream",
     "text": [
      "Region\n",
      "Central     39706.3625\n",
      "East        91522.7800\n",
      "South       46749.4303\n",
      "West       108418.4489\n",
      "Name: Profit, dtype: float64\n"
     ]
    }
   ],
   "source": [
    "superstore_profit(region=True)"
   ]
  },
  {
   "cell_type": "code",
   "execution_count": 17,
   "metadata": {
    "scrolled": true
   },
   "outputs": [
    {
     "name": "stdout",
     "output_type": "stream",
     "text": [
      "Region\n",
      "Central    501239.8908\n",
      "East       678781.2400\n",
      "South      391721.9050\n",
      "West       725457.8245\n",
      "Name: Sales, dtype: float64\n"
     ]
    }
   ],
   "source": [
    "superstore_profit(region=True, aggregate='Sales')"
   ]
  },
  {
   "cell_type": "code",
   "execution_count": 18,
   "metadata": {},
   "outputs": [
    {
     "name": "stdout",
     "output_type": "stream",
     "text": [
      "Region\n",
      "Central     8780\n",
      "East       10618\n",
      "South       6209\n",
      "West       12266\n",
      "Name: Quantity, dtype: int64\n"
     ]
    }
   ],
   "source": [
    "superstore_profit(region=True, aggregate='Quantity')"
   ]
  },
  {
   "cell_type": "markdown",
   "metadata": {},
   "source": [
    "## Function with a Multiple Outputs <a name=\"paragraph5\"></a>\n",
    "\n",
    "Now finally, lets say we need to calculate both sales and profit and have them in different dataframes.\n",
    "\n",
    "Lets change our previous function we've created with these changes:\n",
    "\n",
    "* Remove the `aggregate` parameter\n",
    "* Instead of `print()`ing our result, we will use `return` instead\n",
    "* Calculate both the total `profit` and `sales` in our function"
   ]
  },
  {
   "cell_type": "code",
   "execution_count": 19,
   "metadata": {},
   "outputs": [],
   "source": [
    "def superstore_profit(region=False):\n",
    "    df = pd.read_excel(\"Sample_Superstore_Data.xls\")\n",
    "    \n",
    "    if region:\n",
    "        df_profit = df.groupby('Region')['Profit'].sum()\n",
    "        df_sales = df.groupby('Region')['Sales'].sum()\n",
    "    else:\n",
    "        df_profit = df['Profit'].sum()\n",
    "        df_sales = df['Sales'].sum()\n",
    "    \n",
    "    # Returns both dataframes\n",
    "    return df_profit, df_sales"
   ]
  },
  {
   "cell_type": "markdown",
   "metadata": {},
   "source": [
    "You can run the above function as is and get an output like this:"
   ]
  },
  {
   "cell_type": "code",
   "execution_count": 20,
   "metadata": {},
   "outputs": [
    {
     "data": {
      "text/plain": [
       "(286397.0216999999, 2297200.8603000003)"
      ]
     },
     "execution_count": 20,
     "metadata": {},
     "output_type": "execute_result"
    }
   ],
   "source": [
    "superstore_profit()"
   ]
  },
  {
   "cell_type": "code",
   "execution_count": 21,
   "metadata": {},
   "outputs": [
    {
     "data": {
      "text/plain": [
       "(Region\n",
       " Central     39706.3625\n",
       " East        91522.7800\n",
       " South       46749.4303\n",
       " West       108418.4489\n",
       " Name: Profit, dtype: float64,\n",
       " Region\n",
       " Central    501239.8908\n",
       " East       678781.2400\n",
       " South      391721.9050\n",
       " West       725457.8245\n",
       " Name: Sales, dtype: float64)"
      ]
     },
     "execution_count": 21,
     "metadata": {},
     "output_type": "execute_result"
    }
   ],
   "source": [
    "superstore_profit(region=True)"
   ]
  },
  {
   "cell_type": "markdown",
   "metadata": {},
   "source": [
    "Or you can specify them to a variable, keep in mind the order as `df_profit` is the first frame to be returned:"
   ]
  },
  {
   "cell_type": "code",
   "execution_count": 22,
   "metadata": {},
   "outputs": [],
   "source": [
    "df_my_profit, df_my_sales = superstore_profit(region=True)"
   ]
  },
  {
   "cell_type": "code",
   "execution_count": 23,
   "metadata": {},
   "outputs": [
    {
     "data": {
      "text/plain": [
       "Region\n",
       "Central     39706.3625\n",
       "East        91522.7800\n",
       "South       46749.4303\n",
       "West       108418.4489\n",
       "Name: Profit, dtype: float64"
      ]
     },
     "execution_count": 23,
     "metadata": {},
     "output_type": "execute_result"
    }
   ],
   "source": [
    "df_my_profit"
   ]
  },
  {
   "cell_type": "code",
   "execution_count": 24,
   "metadata": {
    "scrolled": true
   },
   "outputs": [
    {
     "data": {
      "text/plain": [
       "Region\n",
       "Central    501239.8908\n",
       "East       678781.2400\n",
       "South      391721.9050\n",
       "West       725457.8245\n",
       "Name: Sales, dtype: float64"
      ]
     },
     "execution_count": 24,
     "metadata": {},
     "output_type": "execute_result"
    }
   ],
   "source": [
    "df_my_sales"
   ]
  },
  {
   "cell_type": "markdown",
   "metadata": {},
   "source": [
    "## Index<a name=\"paragraph6\"></a>\n",
    "\n",
    "Here are the functions that were created in this notebook summarized:"
   ]
  },
  {
   "cell_type": "markdown",
   "metadata": {},
   "source": [
    "**Calculating Age**"
   ]
  },
  {
   "cell_type": "code",
   "execution_count": null,
   "metadata": {},
   "outputs": [],
   "source": [
    "# Todays date\n",
    "end_date = pd.Timestamp.now().normalize()\n",
    "end_date\n",
    "\n",
    "# Function to calculate age based on today's date\n",
    "def calculate_age(born):\n",
    "    return end_date.year - born.year - ((end_date.month, end_date.day) < (born.month, born.day))\n",
    "\n",
    "# Example of applying the function to create an \"Age\" column\n",
    "df['Age'] = df['Birthday'].apply(calculate_age)"
   ]
  },
  {
   "cell_type": "markdown",
   "metadata": {},
   "source": [
    "**Function with Multiple Parameters**"
   ]
  },
  {
   "cell_type": "code",
   "execution_count": null,
   "metadata": {},
   "outputs": [],
   "source": [
    "def superstore_profit(region=False, aggregate='Profit'):\n",
    "    df = pd.read_excel(\"Sample_Superstore_Data.xls\")\n",
    "    \n",
    "    if region:\n",
    "        df_profit = df.groupby('Region')[aggregate].sum()\n",
    "    else:\n",
    "        df_profit = df[aggregate].sum()\n",
    "        \n",
    "    print(df_profit)"
   ]
  },
  {
   "cell_type": "markdown",
   "metadata": {},
   "source": [
    "**Function with Multiple Outputs**"
   ]
  },
  {
   "cell_type": "code",
   "execution_count": null,
   "metadata": {},
   "outputs": [],
   "source": [
    "def superstore_profit(region=False):\n",
    "    df = pd.read_excel(\"Sample_Superstore_Data.xls\")\n",
    "    \n",
    "    if region:\n",
    "        df_profit = df.groupby('Region')['Profit'].sum()\n",
    "        df_sales = df.groupby('Region')['Sales'].sum()\n",
    "    else:\n",
    "        df_profit = df['Profit'].sum()\n",
    "        df_sales = df['Sales'].sum()\n",
    "    \n",
    "    # Returns both dataframes\n",
    "    return df_profit, df_sales"
   ]
  }
 ],
 "metadata": {
  "kernelspec": {
   "display_name": "Python 3",
   "language": "python",
   "name": "python3"
  },
  "language_info": {
   "codemirror_mode": {
    "name": "ipython",
    "version": 3
   },
   "file_extension": ".py",
   "mimetype": "text/x-python",
   "name": "python",
   "nbconvert_exporter": "python",
   "pygments_lexer": "ipython3",
   "version": "3.7.7"
  }
 },
 "nbformat": 4,
 "nbformat_minor": 4
}
