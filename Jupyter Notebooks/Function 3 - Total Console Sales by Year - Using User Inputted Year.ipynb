{
 "cells": [
  {
   "cell_type": "markdown",
   "metadata": {},
   "source": [
    "# Table of contents\n",
    "1. [Introduction](#introduction)\n",
    "2. [Manually Completing the Task](#paragraph1)\n",
    "3. [Creating the Function](#paragraph2)\n",
    "    1. [Parameter Inputs](#subparagraph1)\n",
    "4. [Appendix: Full Code for the Function](#paragraph3)"
   ]
  },
  {
   "cell_type": "markdown",
   "metadata": {},
   "source": [
    "## Introduction <a name=\"introduction\"></a>\n",
    "\n",
    "You are given a task to complete a report that summarizes the top 3 publishers for each year.\n",
    "\n",
    "**This Jupyter Notebook assumes you've completed and read through each of the previous notebooks. This includes:**\n",
    "\n",
    "1. Setting up the Initial py File\n",
    "2. Reading in Files\n",
    "3. Function 1 - Best Selling Games by Region by Year\n",
    "\n",
    "Reading through the Function 2 guide is not required for this notebook.\n",
    "\n",
    "Lets import the ``vgsales.csv`` dataset to start."
   ]
  },
  {
   "cell_type": "code",
   "execution_count": 1,
   "metadata": {},
   "outputs": [
    {
     "name": "stdout",
     "output_type": "stream",
     "text": [
      "Database directory is C:/Users/Kevin/Desktop/Data\n"
     ]
    }
   ],
   "source": [
    "import pandas as pd\n",
    "import os\n",
    "import pythonguides as pg"
   ]
  },
  {
   "cell_type": "code",
   "execution_count": 2,
   "metadata": {},
   "outputs": [
    {
     "name": "stdout",
     "output_type": "stream",
     "text": [
      "Using directory file: vgsales.csv\n"
     ]
    },
    {
     "data": {
      "text/html": [
       "<div>\n",
       "<style scoped>\n",
       "    .dataframe tbody tr th:only-of-type {\n",
       "        vertical-align: middle;\n",
       "    }\n",
       "\n",
       "    .dataframe tbody tr th {\n",
       "        vertical-align: top;\n",
       "    }\n",
       "\n",
       "    .dataframe thead th {\n",
       "        text-align: right;\n",
       "    }\n",
       "</style>\n",
       "<table border=\"1\" class=\"dataframe\">\n",
       "  <thead>\n",
       "    <tr style=\"text-align: right;\">\n",
       "      <th></th>\n",
       "      <th>Rank</th>\n",
       "      <th>Name</th>\n",
       "      <th>Platform</th>\n",
       "      <th>Year</th>\n",
       "      <th>Genre</th>\n",
       "      <th>Publisher</th>\n",
       "      <th>NA_Sales</th>\n",
       "      <th>EU_Sales</th>\n",
       "      <th>JP_Sales</th>\n",
       "      <th>Other_Sales</th>\n",
       "      <th>Global_Sales</th>\n",
       "    </tr>\n",
       "  </thead>\n",
       "  <tbody>\n",
       "    <tr>\n",
       "      <th>0</th>\n",
       "      <td>1</td>\n",
       "      <td>Wii Sports</td>\n",
       "      <td>Wii</td>\n",
       "      <td>2006.0</td>\n",
       "      <td>Sports</td>\n",
       "      <td>Nintendo</td>\n",
       "      <td>41.49</td>\n",
       "      <td>29.02</td>\n",
       "      <td>3.77</td>\n",
       "      <td>8.46</td>\n",
       "      <td>82.74</td>\n",
       "    </tr>\n",
       "    <tr>\n",
       "      <th>1</th>\n",
       "      <td>2</td>\n",
       "      <td>Super Mario Bros.</td>\n",
       "      <td>NES</td>\n",
       "      <td>1985.0</td>\n",
       "      <td>Platform</td>\n",
       "      <td>Nintendo</td>\n",
       "      <td>29.08</td>\n",
       "      <td>3.58</td>\n",
       "      <td>6.81</td>\n",
       "      <td>0.77</td>\n",
       "      <td>40.24</td>\n",
       "    </tr>\n",
       "    <tr>\n",
       "      <th>2</th>\n",
       "      <td>3</td>\n",
       "      <td>Mario Kart Wii</td>\n",
       "      <td>Wii</td>\n",
       "      <td>2008.0</td>\n",
       "      <td>Racing</td>\n",
       "      <td>Nintendo</td>\n",
       "      <td>15.85</td>\n",
       "      <td>12.88</td>\n",
       "      <td>3.79</td>\n",
       "      <td>3.31</td>\n",
       "      <td>35.82</td>\n",
       "    </tr>\n",
       "    <tr>\n",
       "      <th>3</th>\n",
       "      <td>4</td>\n",
       "      <td>Wii Sports Resort</td>\n",
       "      <td>Wii</td>\n",
       "      <td>2009.0</td>\n",
       "      <td>Sports</td>\n",
       "      <td>Nintendo</td>\n",
       "      <td>15.75</td>\n",
       "      <td>11.01</td>\n",
       "      <td>3.28</td>\n",
       "      <td>2.96</td>\n",
       "      <td>33.00</td>\n",
       "    </tr>\n",
       "    <tr>\n",
       "      <th>4</th>\n",
       "      <td>5</td>\n",
       "      <td>Pokemon Red/Pokemon Blue</td>\n",
       "      <td>GB</td>\n",
       "      <td>1996.0</td>\n",
       "      <td>Role-Playing</td>\n",
       "      <td>Nintendo</td>\n",
       "      <td>11.27</td>\n",
       "      <td>8.89</td>\n",
       "      <td>10.22</td>\n",
       "      <td>1.00</td>\n",
       "      <td>31.37</td>\n",
       "    </tr>\n",
       "  </tbody>\n",
       "</table>\n",
       "</div>"
      ],
      "text/plain": [
       "   Rank                      Name Platform    Year         Genre Publisher  \\\n",
       "0     1                Wii Sports      Wii  2006.0        Sports  Nintendo   \n",
       "1     2         Super Mario Bros.      NES  1985.0      Platform  Nintendo   \n",
       "2     3            Mario Kart Wii      Wii  2008.0        Racing  Nintendo   \n",
       "3     4         Wii Sports Resort      Wii  2009.0        Sports  Nintendo   \n",
       "4     5  Pokemon Red/Pokemon Blue       GB  1996.0  Role-Playing  Nintendo   \n",
       "\n",
       "   NA_Sales  EU_Sales  JP_Sales  Other_Sales  Global_Sales  \n",
       "0     41.49     29.02      3.77         8.46         82.74  \n",
       "1     29.08      3.58      6.81         0.77         40.24  \n",
       "2     15.85     12.88      3.79         3.31         35.82  \n",
       "3     15.75     11.01      3.28         2.96         33.00  \n",
       "4     11.27      8.89     10.22         1.00         31.37  "
      ]
     },
     "execution_count": 2,
     "metadata": {},
     "output_type": "execute_result"
    }
   ],
   "source": [
    "games_file = pg.find_directory_file('vgsales')\n",
    "df = pg.load_file(games_file)\n",
    "df.head(5)"
   ]
  },
  {
   "cell_type": "markdown",
   "metadata": {},
   "source": [
    "## Manually Completing the Task <a name=\"paragraph1\"></a>\n",
    "  \n",
    "Lets start by intaking the user-inputted years into a variable"
   ]
  },
  {
   "cell_type": "code",
   "execution_count": 3,
   "metadata": {},
   "outputs": [
    {
     "name": "stdout",
     "output_type": "stream",
     "text": [
      "Type in the years you want to search up, seperated by commas:2012, 2013, 2014, 2015\n"
     ]
    }
   ],
   "source": [
    "s = input(\"Type in the years you want to search up, seperated by commas:\")\n",
    "years_inputted = list(map(int, s.split(',')))"
   ]
  },
  {
   "cell_type": "markdown",
   "metadata": {},
   "source": [
    "As you see above, I've inputted the years 2012, 2013, 2014, and 2015 when the prompt came up. These values should be in a list in the ``s`` variable:"
   ]
  },
  {
   "cell_type": "code",
   "execution_count": 4,
   "metadata": {},
   "outputs": [
    {
     "data": {
      "text/plain": [
       "'2012, 2013, 2014, 2015'"
      ]
     },
     "execution_count": 4,
     "metadata": {},
     "output_type": "execute_result"
    }
   ],
   "source": [
    "s"
   ]
  },
  {
   "cell_type": "markdown",
   "metadata": {},
   "source": [
    "The next steps are quite straight-forward, filter for the years and utilize the ``groupby()`` function:"
   ]
  },
  {
   "cell_type": "code",
   "execution_count": 5,
   "metadata": {},
   "outputs": [],
   "source": [
    "df = df[df['Year'].isin(years_inputted)]\n",
    "\n",
    "df = df.groupby(['Year', 'Platform'])['Global_Sales'].sum().reset_index()"
   ]
  },
  {
   "cell_type": "code",
   "execution_count": 7,
   "metadata": {},
   "outputs": [
    {
     "data": {
      "text/html": [
       "<div>\n",
       "<style scoped>\n",
       "    .dataframe tbody tr th:only-of-type {\n",
       "        vertical-align: middle;\n",
       "    }\n",
       "\n",
       "    .dataframe tbody tr th {\n",
       "        vertical-align: top;\n",
       "    }\n",
       "\n",
       "    .dataframe thead th {\n",
       "        text-align: right;\n",
       "    }\n",
       "</style>\n",
       "<table border=\"1\" class=\"dataframe\">\n",
       "  <thead>\n",
       "    <tr style=\"text-align: right;\">\n",
       "      <th></th>\n",
       "      <th>Year</th>\n",
       "      <th>Platform</th>\n",
       "      <th>Global_Sales</th>\n",
       "    </tr>\n",
       "  </thead>\n",
       "  <tbody>\n",
       "    <tr>\n",
       "      <th>0</th>\n",
       "      <td>2012.0</td>\n",
       "      <td>3DS</td>\n",
       "      <td>51.14</td>\n",
       "    </tr>\n",
       "    <tr>\n",
       "      <th>1</th>\n",
       "      <td>2012.0</td>\n",
       "      <td>DS</td>\n",
       "      <td>11.64</td>\n",
       "    </tr>\n",
       "    <tr>\n",
       "      <th>2</th>\n",
       "      <td>2012.0</td>\n",
       "      <td>PC</td>\n",
       "      <td>23.53</td>\n",
       "    </tr>\n",
       "    <tr>\n",
       "      <th>3</th>\n",
       "      <td>2012.0</td>\n",
       "      <td>PS3</td>\n",
       "      <td>109.49</td>\n",
       "    </tr>\n",
       "    <tr>\n",
       "      <th>4</th>\n",
       "      <td>2012.0</td>\n",
       "      <td>PSP</td>\n",
       "      <td>7.72</td>\n",
       "    </tr>\n",
       "    <tr>\n",
       "      <th>5</th>\n",
       "      <td>2012.0</td>\n",
       "      <td>PSV</td>\n",
       "      <td>18.53</td>\n",
       "    </tr>\n",
       "    <tr>\n",
       "      <th>6</th>\n",
       "      <td>2012.0</td>\n",
       "      <td>Wii</td>\n",
       "      <td>22.77</td>\n",
       "    </tr>\n",
       "    <tr>\n",
       "      <th>7</th>\n",
       "      <td>2012.0</td>\n",
       "      <td>WiiU</td>\n",
       "      <td>17.84</td>\n",
       "    </tr>\n",
       "    <tr>\n",
       "      <th>8</th>\n",
       "      <td>2012.0</td>\n",
       "      <td>X360</td>\n",
       "      <td>100.88</td>\n",
       "    </tr>\n",
       "    <tr>\n",
       "      <th>9</th>\n",
       "      <td>2013.0</td>\n",
       "      <td>3DS</td>\n",
       "      <td>55.88</td>\n",
       "    </tr>\n",
       "  </tbody>\n",
       "</table>\n",
       "</div>"
      ],
      "text/plain": [
       "     Year Platform  Global_Sales\n",
       "0  2012.0      3DS         51.14\n",
       "1  2012.0       DS         11.64\n",
       "2  2012.0       PC         23.53\n",
       "3  2012.0      PS3        109.49\n",
       "4  2012.0      PSP          7.72\n",
       "5  2012.0      PSV         18.53\n",
       "6  2012.0      Wii         22.77\n",
       "7  2012.0     WiiU         17.84\n",
       "8  2012.0     X360        100.88\n",
       "9  2013.0      3DS         55.88"
      ]
     },
     "execution_count": 7,
     "metadata": {},
     "output_type": "execute_result"
    }
   ],
   "source": [
    "df.head(10)"
   ]
  },
  {
   "cell_type": "markdown",
   "metadata": {},
   "source": [
    "Now lets transpose the data for better user-readability:"
   ]
  },
  {
   "cell_type": "code",
   "execution_count": 8,
   "metadata": {},
   "outputs": [
    {
     "data": {
      "text/html": [
       "<div>\n",
       "<style scoped>\n",
       "    .dataframe tbody tr th:only-of-type {\n",
       "        vertical-align: middle;\n",
       "    }\n",
       "\n",
       "    .dataframe tbody tr th {\n",
       "        vertical-align: top;\n",
       "    }\n",
       "\n",
       "    .dataframe thead th {\n",
       "        text-align: right;\n",
       "    }\n",
       "</style>\n",
       "<table border=\"1\" class=\"dataframe\">\n",
       "  <thead>\n",
       "    <tr style=\"text-align: right;\">\n",
       "      <th>Year</th>\n",
       "      <th>Platform</th>\n",
       "      <th>2012.0</th>\n",
       "      <th>2013.0</th>\n",
       "      <th>2014.0</th>\n",
       "      <th>2015.0</th>\n",
       "    </tr>\n",
       "  </thead>\n",
       "  <tbody>\n",
       "    <tr>\n",
       "      <th>0</th>\n",
       "      <td>3DS</td>\n",
       "      <td>51.14</td>\n",
       "      <td>55.88</td>\n",
       "      <td>43.14</td>\n",
       "      <td>26.99</td>\n",
       "    </tr>\n",
       "    <tr>\n",
       "      <th>1</th>\n",
       "      <td>DS</td>\n",
       "      <td>11.64</td>\n",
       "      <td>1.96</td>\n",
       "      <td>0.02</td>\n",
       "      <td>0.00</td>\n",
       "    </tr>\n",
       "    <tr>\n",
       "      <th>2</th>\n",
       "      <td>PC</td>\n",
       "      <td>23.53</td>\n",
       "      <td>12.83</td>\n",
       "      <td>13.39</td>\n",
       "      <td>8.07</td>\n",
       "    </tr>\n",
       "    <tr>\n",
       "      <th>3</th>\n",
       "      <td>PS3</td>\n",
       "      <td>109.49</td>\n",
       "      <td>117.39</td>\n",
       "      <td>50.96</td>\n",
       "      <td>18.22</td>\n",
       "    </tr>\n",
       "    <tr>\n",
       "      <th>4</th>\n",
       "      <td>PS4</td>\n",
       "      <td>0.00</td>\n",
       "      <td>24.76</td>\n",
       "      <td>98.76</td>\n",
       "      <td>115.30</td>\n",
       "    </tr>\n",
       "    <tr>\n",
       "      <th>5</th>\n",
       "      <td>PSP</td>\n",
       "      <td>7.72</td>\n",
       "      <td>3.19</td>\n",
       "      <td>0.24</td>\n",
       "      <td>0.12</td>\n",
       "    </tr>\n",
       "    <tr>\n",
       "      <th>6</th>\n",
       "      <td>PSV</td>\n",
       "      <td>18.53</td>\n",
       "      <td>12.69</td>\n",
       "      <td>14.74</td>\n",
       "      <td>7.10</td>\n",
       "    </tr>\n",
       "    <tr>\n",
       "      <th>7</th>\n",
       "      <td>Wii</td>\n",
       "      <td>22.77</td>\n",
       "      <td>9.36</td>\n",
       "      <td>4.44</td>\n",
       "      <td>1.55</td>\n",
       "    </tr>\n",
       "    <tr>\n",
       "      <th>8</th>\n",
       "      <td>WiiU</td>\n",
       "      <td>17.84</td>\n",
       "      <td>21.84</td>\n",
       "      <td>22.51</td>\n",
       "      <td>16.38</td>\n",
       "    </tr>\n",
       "    <tr>\n",
       "      <th>9</th>\n",
       "      <td>X360</td>\n",
       "      <td>100.88</td>\n",
       "      <td>89.61</td>\n",
       "      <td>36.42</td>\n",
       "      <td>13.05</td>\n",
       "    </tr>\n",
       "    <tr>\n",
       "      <th>10</th>\n",
       "      <td>XOne</td>\n",
       "      <td>0.00</td>\n",
       "      <td>18.60</td>\n",
       "      <td>52.43</td>\n",
       "      <td>57.66</td>\n",
       "    </tr>\n",
       "  </tbody>\n",
       "</table>\n",
       "</div>"
      ],
      "text/plain": [
       "Year Platform  2012.0  2013.0  2014.0  2015.0\n",
       "0         3DS   51.14   55.88   43.14   26.99\n",
       "1          DS   11.64    1.96    0.02    0.00\n",
       "2          PC   23.53   12.83   13.39    8.07\n",
       "3         PS3  109.49  117.39   50.96   18.22\n",
       "4         PS4    0.00   24.76   98.76  115.30\n",
       "5         PSP    7.72    3.19    0.24    0.12\n",
       "6         PSV   18.53   12.69   14.74    7.10\n",
       "7         Wii   22.77    9.36    4.44    1.55\n",
       "8        WiiU   17.84   21.84   22.51   16.38\n",
       "9        X360  100.88   89.61   36.42   13.05\n",
       "10       XOne    0.00   18.60   52.43   57.66"
      ]
     },
     "execution_count": 8,
     "metadata": {},
     "output_type": "execute_result"
    }
   ],
   "source": [
    "df = df.pivot(index='Platform', columns='Year', values='Global_Sales').reset_index().fillna(0)\n",
    "df"
   ]
  },
  {
   "cell_type": "markdown",
   "metadata": {},
   "source": [
    "## Creating the Function <a name=\"paragraph2\"></a>\n",
    "\n",
    "Lets create the function. The function is very similar to the manual steps above except for a few things. I will go over them momentarily. I will not go over the export functions as they have already been explained in the last example, [Function 1 - Best Selling Game by Region this Year](link)\n",
    "\n",
    "I have also included the documentation in the function as well."
   ]
  },
  {
   "cell_type": "code",
   "execution_count": 9,
   "metadata": {},
   "outputs": [],
   "source": [
    "def console_sales_per_year(filename='vgsales'):\n",
    "    \"\"\"\n",
    "    \n",
    "    Generates the top selling game by each region by year. This function requires the user input data once it has been invoked.\n",
    "    \n",
    "    The user must input a minimum of one year as a response. If the user wishes to input more than one year, each year must be seperated by a comma: ``,``\n",
    "    \n",
    "    The final Data Frame will be exported to the current directory location.  \n",
    "\n",
    "    Parameters\n",
    "    ----------\n",
    "    filename : string, optional\n",
    "        Will default to ``vgsales`` if no input is given.\n",
    "\n",
    "    Returns\n",
    "    -------\n",
    "    This function does not return a value but exports a dataframe to the current directory.\n",
    "\n",
    "    \"\"\"\n",
    "\n",
    "    # Attempt to find the correct filename in the current directory\n",
    "    games_file = find_directory_file(filename)\n",
    "    \n",
    "    # Load in the csv file into the dataframe, df\n",
    "    df = load_file(games_file)\n",
    "    \n",
    "    # Ask user to input years seperated by commas\n",
    "    s = input(\"Type in the years you want to search up, seperated by commas:\")\n",
    "    years_inputted = list(map(int, s.split(',')))\n",
    "    \n",
    "    # Filter main dataframe for the years inputted by user\n",
    "    df = df[df['Year'].isin(years_inputted)]\n",
    "    \n",
    "    # Groupby console to calculate total sales by year\n",
    "    df = df.groupby(['Year', 'Platform'])['Global_Sales'].sum().reset_index()\n",
    "    \n",
    "    # Pivot results for easier user readability in exported file\n",
    "    df = df.pivot(index='Platform', columns='Year', values='Global_Sales').reset_index().fillna(0)\n",
    "    \n",
    "    # Export finalized dataframe\n",
    "    filename = os.path.join(DIRECTORY_LOCATION, f'Console_Sales_per_Year.csv')\n",
    "    df.to_csv(filename, index=False)   \n",
    "    print(f'Exporting completed file to this folder path: {filename}')"
   ]
  },
  {
   "cell_type": "markdown",
   "metadata": {},
   "source": [
    "### Parameter Inputs <a name=\"subparagraph1\"></a>\n",
    "\n",
    "The following are our parameters:\n",
    "\n",
    "``console_sales_per_year(filename='vgsales'))``\n",
    "\n",
    "- ``filename``: Will automatically attempt to find a filename with the name vgsales, unless specified by the user\n",
    "\n",
    "In our example, we use the ``vgsales.csv`` file. Nothing is needed on the users side as they can simply call the function to complete it:"
   ]
  },
  {
   "cell_type": "code",
   "execution_count": 10,
   "metadata": {
    "scrolled": true
   },
   "outputs": [
    {
     "name": "stdout",
     "output_type": "stream",
     "text": [
      "Using directory file: vgsales.csv\n",
      "Type in the years you want to search up, seperated by commas:2012, 2013, 2014\n",
      "Exporting completed file to this folder path: C:/Users/Kevin/Desktop/Data\\Console_Sales_per_Year.csv\n"
     ]
    }
   ],
   "source": [
    "pg.console_sales_per_year()"
   ]
  },
  {
   "cell_type": "markdown",
   "metadata": {},
   "source": [
    "## Full Code for the Function <a name=\"paragraph3\"></a>\n",
    "\n",
    "Here is the full completed code without any comments."
   ]
  },
  {
   "cell_type": "code",
   "execution_count": null,
   "metadata": {},
   "outputs": [],
   "source": [
    "def console_sales_per_year(filename='vgsales'):\n",
    "    \"\"\"\n",
    "    \n",
    "    Generates the top selling game by each region by year. This function requires the user input data once it has been invoked.\n",
    "    \n",
    "    The user must input a minimum of one year as a response. If the user wishes to input more than one year, each year must be seperated by a comma: ``,``\n",
    "    \n",
    "    The final Data Frame will be exported to the current directory location.  \n",
    "\n",
    "    Parameters\n",
    "    ----------\n",
    "    filename : string, optional\n",
    "        Will default to ``vgsales`` if no input is given.\n",
    "\n",
    "    Returns\n",
    "    -------\n",
    "    This function does not return a value but exports a dataframe to the current directory.\n",
    "\n",
    "    \"\"\"\n",
    "    \n",
    "    games_file = find_directory_file(filename)\n",
    "    df = load_file(games_file)\n",
    "    \n",
    "    s = input(\"Type in the years you want to search up, seperated by commas:\")\n",
    "    years_inputted = list(map(int, s.split(',')))\n",
    "    df = df[df['Year'].isin(years_inputted)]\n",
    "    \n",
    "    df = df.groupby(['Year', 'Platform'])['Global_Sales'].sum().reset_index()\n",
    "    df = df.pivot(index='Platform', columns='Year', values='Global_Sales').reset_index().fillna(0)\n",
    "    \n",
    "    filename = os.path.join(DIRECTORY_LOCATION, f'Console_Sales_per_Year.csv')\n",
    "    df.to_csv(filename, index=False)   \n",
    "    print(f'Exporting completed file to this folder path: {filename}')"
   ]
  }
 ],
 "metadata": {
  "kernelspec": {
   "display_name": "Python 3",
   "language": "python",
   "name": "python3"
  },
  "language_info": {
   "codemirror_mode": {
    "name": "ipython",
    "version": 3
   },
   "file_extension": ".py",
   "mimetype": "text/x-python",
   "name": "python",
   "nbconvert_exporter": "python",
   "pygments_lexer": "ipython3",
   "version": "3.7.7"
  }
 },
 "nbformat": 4,
 "nbformat_minor": 4
}
