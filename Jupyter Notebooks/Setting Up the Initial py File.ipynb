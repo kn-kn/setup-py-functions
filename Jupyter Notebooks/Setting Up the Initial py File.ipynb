{
 "cells": [
  {
   "cell_type": "markdown",
   "metadata": {},
   "source": [
    "# Setting up the py File"
   ]
  },
  {
   "cell_type": "markdown",
   "metadata": {},
   "source": [
    "1. [Introduction](#introduction)\n",
    "2. [Saving your starting py file](#paragraph1)\n",
    "3. [Overview of the Games Dataset](#paragraph2)\n",
    "4. [Creating a Working Directory](#paragraph3)\n",
    "5. [Summary](#paragraph4)"
   ]
  },
  {
   "cell_type": "markdown",
   "metadata": {},
   "source": [
    "## Introduction <a name=\"introduction\"></a>\n",
    "\n",
    "Setting up your py file is similar to setting up packages like pandas or numpy, you have to create the .py file and place it in the folder your IDE reads all your Python packages.\n",
    "\n",
    "This guide uses the Anaconda distribution of Python. The Anaconda distribution is commonly used for all data science distributions of Python as it comes prepackaged with other useful utilities without the user needing to go to each individual website.\n",
    "\n",
    "Anaconda can be installed on their website: [Link](https://www.anaconda.com/)"
   ]
  },
  {
   "cell_type": "markdown",
   "metadata": {},
   "source": [
    "Once you have Anaconda installed, open up your preferred IDE to start creating your py file. Some common IDEs include:\n",
    "\n",
    "- [Pycharm](https://www.jetbrains.com/pycharm/)\n",
    "- [Microsoft Visual Studio](https://visualstudio.microsoft.com/)\n",
    "- Spyder (packaged with Anaconda)"
   ]
  },
  {
   "cell_type": "markdown",
   "metadata": {},
   "source": [
    "## Saving your starting py file <a name=\"paragraph1\"></a>\n",
    "\n",
    "Create your py file and carefully give it the name you want to call your library.\n",
    "\n",
    "For example purposes, this guide will call it ``pythonguides.py``\n",
    "\n",
    "The location to save your py file will be where your Python distribution houses all your other packages. For Anaconda, you will most likely find it here:\n",
    "\n",
    "``C:/Users/Your_Username/AppData/Local/Continuum/anaconda3/Lib/site-packages``\n",
    "\n",
    "Save your py file once you've figured out the correct folder path and we can start creating some functions!"
   ]
  },
  {
   "cell_type": "markdown",
   "metadata": {},
   "source": [
    "## Overview of the Games Dataset <a name=\"paragraph2\"></a>\n",
    "\n",
    "The dataset used in the various eaxamples will be a games dataset found on the following Kaggle page: [Link](https://www.kaggle.com/gregorut/videogamesales)\n",
    "\n",
    "Fields include\n",
    "\n",
    "    Rank - Ranking of overall sales\n",
    "\n",
    "    Name - The games name\n",
    "\n",
    "    Platform - Platform of the games release (i.e. PC,PS4, etc.)\n",
    "\n",
    "    Year - Year of the game's release\n",
    "\n",
    "    Genre - Genre of the game\n",
    "\n",
    "    Publisher - Publisher of the game\n",
    "\n",
    "    NA_Sales - Sales in North America (in millions)\n",
    "\n",
    "    EU_Sales - Sales in Europe (in millions)\n",
    "\n",
    "    JP_Sales - Sales in Japan (in millions)\n",
    "\n",
    "    Other_Sales - Sales in the rest of the world (in millions)\n",
    "\n",
    "    Global_Sales - Total worldwide sales."
   ]
  },
  {
   "cell_type": "code",
   "execution_count": 1,
   "metadata": {},
   "outputs": [],
   "source": [
    "import pandas as pd\n",
    "df = pd.read_csv('vgsales.csv')"
   ]
  },
  {
   "cell_type": "code",
   "execution_count": 2,
   "metadata": {},
   "outputs": [
    {
     "data": {
      "text/html": [
       "<div>\n",
       "<style scoped>\n",
       "    .dataframe tbody tr th:only-of-type {\n",
       "        vertical-align: middle;\n",
       "    }\n",
       "\n",
       "    .dataframe tbody tr th {\n",
       "        vertical-align: top;\n",
       "    }\n",
       "\n",
       "    .dataframe thead th {\n",
       "        text-align: right;\n",
       "    }\n",
       "</style>\n",
       "<table border=\"1\" class=\"dataframe\">\n",
       "  <thead>\n",
       "    <tr style=\"text-align: right;\">\n",
       "      <th></th>\n",
       "      <th>Rank</th>\n",
       "      <th>Name</th>\n",
       "      <th>Platform</th>\n",
       "      <th>Year</th>\n",
       "      <th>Genre</th>\n",
       "      <th>Publisher</th>\n",
       "      <th>NA_Sales</th>\n",
       "      <th>EU_Sales</th>\n",
       "      <th>JP_Sales</th>\n",
       "      <th>Other_Sales</th>\n",
       "      <th>Global_Sales</th>\n",
       "    </tr>\n",
       "  </thead>\n",
       "  <tbody>\n",
       "    <tr>\n",
       "      <th>0</th>\n",
       "      <td>1</td>\n",
       "      <td>Wii Sports</td>\n",
       "      <td>Wii</td>\n",
       "      <td>2006.0</td>\n",
       "      <td>Sports</td>\n",
       "      <td>Nintendo</td>\n",
       "      <td>41.49</td>\n",
       "      <td>29.02</td>\n",
       "      <td>3.77</td>\n",
       "      <td>8.46</td>\n",
       "      <td>82.74</td>\n",
       "    </tr>\n",
       "    <tr>\n",
       "      <th>1</th>\n",
       "      <td>2</td>\n",
       "      <td>Super Mario Bros.</td>\n",
       "      <td>NES</td>\n",
       "      <td>1985.0</td>\n",
       "      <td>Platform</td>\n",
       "      <td>Nintendo</td>\n",
       "      <td>29.08</td>\n",
       "      <td>3.58</td>\n",
       "      <td>6.81</td>\n",
       "      <td>0.77</td>\n",
       "      <td>40.24</td>\n",
       "    </tr>\n",
       "    <tr>\n",
       "      <th>2</th>\n",
       "      <td>3</td>\n",
       "      <td>Mario Kart Wii</td>\n",
       "      <td>Wii</td>\n",
       "      <td>2008.0</td>\n",
       "      <td>Racing</td>\n",
       "      <td>Nintendo</td>\n",
       "      <td>15.85</td>\n",
       "      <td>12.88</td>\n",
       "      <td>3.79</td>\n",
       "      <td>3.31</td>\n",
       "      <td>35.82</td>\n",
       "    </tr>\n",
       "    <tr>\n",
       "      <th>3</th>\n",
       "      <td>4</td>\n",
       "      <td>Wii Sports Resort</td>\n",
       "      <td>Wii</td>\n",
       "      <td>2009.0</td>\n",
       "      <td>Sports</td>\n",
       "      <td>Nintendo</td>\n",
       "      <td>15.75</td>\n",
       "      <td>11.01</td>\n",
       "      <td>3.28</td>\n",
       "      <td>2.96</td>\n",
       "      <td>33.00</td>\n",
       "    </tr>\n",
       "    <tr>\n",
       "      <th>4</th>\n",
       "      <td>5</td>\n",
       "      <td>Pokemon Red/Pokemon Blue</td>\n",
       "      <td>GB</td>\n",
       "      <td>1996.0</td>\n",
       "      <td>Role-Playing</td>\n",
       "      <td>Nintendo</td>\n",
       "      <td>11.27</td>\n",
       "      <td>8.89</td>\n",
       "      <td>10.22</td>\n",
       "      <td>1.00</td>\n",
       "      <td>31.37</td>\n",
       "    </tr>\n",
       "  </tbody>\n",
       "</table>\n",
       "</div>"
      ],
      "text/plain": [
       "   Rank                      Name Platform    Year         Genre Publisher  \\\n",
       "0     1                Wii Sports      Wii  2006.0        Sports  Nintendo   \n",
       "1     2         Super Mario Bros.      NES  1985.0      Platform  Nintendo   \n",
       "2     3            Mario Kart Wii      Wii  2008.0        Racing  Nintendo   \n",
       "3     4         Wii Sports Resort      Wii  2009.0        Sports  Nintendo   \n",
       "4     5  Pokemon Red/Pokemon Blue       GB  1996.0  Role-Playing  Nintendo   \n",
       "\n",
       "   NA_Sales  EU_Sales  JP_Sales  Other_Sales  Global_Sales  \n",
       "0     41.49     29.02      3.77         8.46         82.74  \n",
       "1     29.08      3.58      6.81         0.77         40.24  \n",
       "2     15.85     12.88      3.79         3.31         35.82  \n",
       "3     15.75     11.01      3.28         2.96         33.00  \n",
       "4     11.27      8.89     10.22         1.00         31.37  "
      ]
     },
     "execution_count": 2,
     "metadata": {},
     "output_type": "execute_result"
    }
   ],
   "source": [
    "df.head(5)"
   ]
  },
  {
   "cell_type": "markdown",
   "metadata": {},
   "source": [
    "## Creating a Working Directory <a name=\"paragraph3\"></a>\n",
    "\n",
    "You will be commonly working with specific folders that house all your various csv, Excel and other data files on your computer.\n",
    "\n",
    "To be consistent, creating a working directory and storing your files in one location will make it easier for you to locate your files. In your py file, lets define your working directory that you will be using.\n",
    "\n",
    "Keep in mind the function below will most likely choose ``C:/Users/Your_Username`` as the working directory by default if you have not changed any settings."
   ]
  },
  {
   "cell_type": "code",
   "execution_count": 3,
   "metadata": {},
   "outputs": [],
   "source": [
    "import os"
   ]
  },
  {
   "cell_type": "code",
   "execution_count": 5,
   "metadata": {},
   "outputs": [
    {
     "name": "stdout",
     "output_type": "stream",
     "text": [
      "Database directory is C:\\Users\\Kevin\n"
     ]
    }
   ],
   "source": [
    "DIRECTORY_LOCATION = os.getcwd()\n",
    "print(f\"Database directory is {DIRECTORY_LOCATION}\")"
   ]
  },
  {
   "cell_type": "markdown",
   "metadata": {},
   "source": [
    "Or you could define it directly:"
   ]
  },
  {
   "cell_type": "code",
   "execution_count": 4,
   "metadata": {},
   "outputs": [
    {
     "name": "stdout",
     "output_type": "stream",
     "text": [
      "Database directory is C:/Users/Kevin/Desktop/Data\n"
     ]
    }
   ],
   "source": [
    "DIRECTORY_LOCATION = r'C:/Users/Kevin/Desktop/Data'\n",
    "print(f\"Database directory is {DIRECTORY_LOCATION}\")"
   ]
  },
  {
   "cell_type": "markdown",
   "metadata": {},
   "source": [
    "**It is recommended you choose the first option as you can easily define your working directory before importing your package anytime by using ``os.chdir(\"Your_Folder_Path\")``**"
   ]
  },
  {
   "cell_type": "code",
   "execution_count": 6,
   "metadata": {},
   "outputs": [
    {
     "name": "stdout",
     "output_type": "stream",
     "text": [
      "Database directory is C:\\Users\\Kevin\\Desktop\n"
     ]
    }
   ],
   "source": [
    "os.chdir(r'C:/Users/Kevin/Desktop')\n",
    "DIRECTORY_LOCATION = os.getcwd()\n",
    "print(f\"Database directory is {DIRECTORY_LOCATION}\")"
   ]
  },
  {
   "cell_type": "markdown",
   "metadata": {},
   "source": [
    "## Summary <a name=\"paragraph4\"></a>\n",
    "\n",
    "To recap, place the following lines at the top of your py file which include some packages we will need imported as well as the 2 lines of code defining your working directory."
   ]
  },
  {
   "cell_type": "code",
   "execution_count": 7,
   "metadata": {},
   "outputs": [
    {
     "name": "stdout",
     "output_type": "stream",
     "text": [
      "Database directory is C:\\Users\\Kevin\\Desktop\n"
     ]
    }
   ],
   "source": [
    "import glob\n",
    "import os\n",
    "import pandas as pd\n",
    "import numpy as np\n",
    "import datetime\n",
    "\n",
    "# Initialize the py file\n",
    "DIRECTORY_LOCATION = os.getcwd()\n",
    "print(f\"Database directory is {DIRECTORY_LOCATION}\")"
   ]
  }
 ],
 "metadata": {
  "kernelspec": {
   "display_name": "Python 3",
   "language": "python",
   "name": "python3"
  },
  "language_info": {
   "codemirror_mode": {
    "name": "ipython",
    "version": 3
   },
   "file_extension": ".py",
   "mimetype": "text/x-python",
   "name": "python",
   "nbconvert_exporter": "python",
   "pygments_lexer": "ipython3",
   "version": "3.7.7"
  }
 },
 "nbformat": 4,
 "nbformat_minor": 4
}
