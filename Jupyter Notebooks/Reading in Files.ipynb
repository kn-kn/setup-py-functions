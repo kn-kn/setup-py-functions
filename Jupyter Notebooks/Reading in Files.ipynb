{
 "cells": [
  {
   "cell_type": "markdown",
   "metadata": {},
   "source": [
    "# Table of contents\n",
    "1. [Introduction](#introduction)\n",
    "2. [Function 1: ``find_directory_file()``](#paragraph1)\n",
    "    1. [Creating Help Documentation](#subparagraph1)\n",
    "3. [Function 2: ``load_file()``](#paragraph2)\n",
    "4. [Appendix: Full Code for Functions](#paragraph3)"
   ]
  },
  {
   "cell_type": "markdown",
   "metadata": {},
   "source": [
    "## Introduction <a name=\"introduction\"></a>\n",
    "\n",
    "Before working with your data, we will need to ingest your data into Python. We will be creating two functions:\n",
    "\n",
    "- One function to parse the correct path to the file you are using\n",
    "- One function to actually the file into Python"
   ]
  },
  {
   "cell_type": "code",
   "execution_count": 16,
   "metadata": {},
   "outputs": [
    {
     "name": "stdout",
     "output_type": "stream",
     "text": [
      "Database directory is C:/Users/Kevin/Desktop/Data\n"
     ]
    }
   ],
   "source": [
    "import glob\n",
    "import os\n",
    "import pandas as pd\n",
    "import numpy as np\n",
    "import datetime\n",
    "\n",
    "DIRECTORY_LOCATION = r'C:/Users/Kevin/Desktop/Data'\n",
    "print(f\"Database directory is {DIRECTORY_LOCATION}\")"
   ]
  },
  {
   "cell_type": "markdown",
   "metadata": {},
   "source": [
    "## Function 1: ``find_directory_file()`` <a name=\"paragraph1\"></a>\n",
    "\n",
    "Using the ``glob`` package, we can utilize its string-matching capabilities to locate our file. It is very common for analysts to work with files that are updated daily, weekly or monthly for the purposes of reporting. Since we are using a common working directory, it is important we read the correct file.\n",
    "\n",
    "Since there could be multiple files with similar names, potentially appending with the date it is pulled, we need to create a statement where it will read the newest file in your folder; most likely the one you pulled to utilize the functions you are about to create."
   ]
  },
  {
   "cell_type": "code",
   "execution_count": 7,
   "metadata": {},
   "outputs": [],
   "source": [
    "# Lets define our function:\n",
    "def find_directory_file(string_search=''):\n",
    "    csv_file_list = glob.glob(DIRECTORY_LOCATION + \"\\*.csv\") # use glob to match filename\n",
    "    files_list = [i for i in csv_file_list if string_search in i]\n",
    "    num_found_files = len(files_list)"
   ]
  },
  {
   "cell_type": "markdown",
   "metadata": {},
   "source": [
    "The above function will attempt to search for the string in your working directory. It will then pull a list of all files that matches. Depending on how much it pulled, we will need to do the following:\n",
    "\n",
    "- **Pulled 0 matching files**: Function raises an exception, notifies the user, and ends\n",
    "- **Pulled 1 matching file**: Function will read in the file location\n",
    "- **Pulled >1 matching file**: Function will read the newest file based on your systems' date modified date on the files"
   ]
  },
  {
   "cell_type": "code",
   "execution_count": 10,
   "metadata": {},
   "outputs": [],
   "source": [
    "def find_directory_file(string_search=''):\n",
    "    csv_file_list = glob.glob(DIRECTORY_LOCATION + \"\\*.csv\") # use glob to match filename\n",
    "    files_list = [i for i in csv_file_list if string_search in i]\n",
    "    num_found_files = len(files_list)\n",
    "\n",
    "    # Situation 1: no files found\n",
    "    if num_found_files == 0:\n",
    "        raise Exception(f'Could not find the {string_search} file in your directory folder.')\n",
    "        \n",
    "    # Situation 2: more than one matching found\n",
    "    elif num_found_files > 1:\n",
    "        files_list.sort(key=lambda x: os.path.getmtime(x), reverse=True) # use the most recent file\n",
    "        print(f'Found more than one {string_search} file. Will use the most recent file based on \"Date Modified\" on your computer.')\n",
    "        directory, file = os.path.split(files_list[0])\n",
    "        print(f'Using directory file: {file}')\n",
    "        return files_list[0]\n",
    "    \n",
    "    # Situation 3: one file found\n",
    "    else:\n",
    "        directory, file = os.path.split(files_list[0])\n",
    "        print(f'Using directory file: {file}')\n",
    "        return files_list[0]\n",
    "    \n",
    "    print()"
   ]
  },
  {
   "cell_type": "markdown",
   "metadata": {},
   "source": [
    "Now that we've created a function that will return a string of the correct folder path to our target file, lets create a function that actually reads-in the file to Python."
   ]
  },
  {
   "cell_type": "markdown",
   "metadata": {},
   "source": [
    "### Creating Help Documentation <a name=\"subparagraph1\"></a>\n",
    "\n",
    "It is important to create documentation within each function to give users context on how the function works. While you may understand the function as the creator, other users may need assistance on understanding how the parameters work, or even what the function actually does.\n",
    "\n",
    "To create help documentation, it is recommended immediately after defining your function, you create a comment block by using triple quotes. IDEs like Spyder will automatically set up your documentation once you've started typing the three quotes.\n",
    "\n",
    "**Note: I've omitted most of the code in the function to save space for this example**"
   ]
  },
  {
   "cell_type": "code",
   "execution_count": 3,
   "metadata": {},
   "outputs": [],
   "source": [
    "def find_directory_file(string_search=''):\n",
    "    \"\"\"\n",
    "    Place your help documentation in here\n",
    "    \"\"\"\n",
    "    \n",
    "    csv_file_list = glob.glob(DIRECTORY_LOCATION + \"\\*.csv\") # use glob to match filename\n",
    "    files_list = [i for i in csv_file_list if string_search in i]\n",
    "    num_found_files = len(files_list)"
   ]
  },
  {
   "cell_type": "markdown",
   "metadata": {},
   "source": [
    "Place your information in the triple quotes. Depending on your IDE, there are different keyboard shortcuts to viewing this information. On Jupyter, use ``shift+tab`` to view the documentation for your function. The result looks something like this:"
   ]
  },
  {
   "attachments": {
    "image.png": {
     "image/png": "[encoded data removed]"
    }
   },
   "cell_type": "markdown",
   "metadata": {},
   "source": [
    "![image.png](attachment:image.png)"
   ]
  },
  {
   "cell_type": "markdown",
   "metadata": {},
   "source": [
    "Lets insert the full help documentation for the function and see what it looks like from Jupyter, as well as the Spyder IDE."
   ]
  },
  {
   "cell_type": "code",
   "execution_count": 4,
   "metadata": {},
   "outputs": [],
   "source": [
    "def find_directory_file(string_search=''):\n",
    "    \"\"\"\n",
    "    \n",
    "    Attempts to find a file in your current directory folder. It will use the passed parameter, ``search_string`` on all files in your directory folder.\n",
    "    \n",
    "    You do not need to ensure the whole file name is inputted into the ``search_string`` parameter, only a portion is needed if the name is unique enough.\n",
    "    \n",
    "    If there is more than one file found, it will use the most recent file based on the \"Modified time\" according to your operating system's timestamp on the file\n",
    "    \n",
    "    Parameters\n",
    "    ----------\n",
    "    **string_search** : string\n",
    "    \n",
    "    \n",
    "    Example of how to use this function.\n",
    "    \n",
    "        ``games_file = find_directory_file(my_data_file)``\n",
    "    \n",
    "    If you work with files that is appended the date at the end based on when you've extracted it, then you could omit the date portion of the file.\n",
    "   \n",
    "    As an example, if you have a file named Games_Jan252020.csv, you could do the following.\n",
    "        \n",
    "        ``games_file = find_directory_file(Games_)``\n",
    "\n",
    "    Returns\n",
    "    -------\n",
    "    string\n",
    "        The path and filename of the file if found, otherwise, an exception will be raised.\n",
    "\n",
    "    \"\"\"\n",
    "    \n",
    "    csv_file_list = glob.glob(DIRECTORY_LOCATION + \"\\*.csv\") # use glob to match filename\n",
    "    files_list = [i for i in csv_file_list if string_search in i]\n",
    "    num_found_files = len(files_list)"
   ]
  },
  {
   "attachments": {
    "image.png": {
     "image/png": "[encoded data removed]"
    }
   },
   "cell_type": "markdown",
   "metadata": {},
   "source": [
    "Heres what it looks like on Jupyter:\n",
    "\n",
    "![image.png](attachment:image.png)"
   ]
  },
  {
   "attachments": {
    "image.png": {
     "image/png": "[encoded data removed]"
    }
   },
   "cell_type": "markdown",
   "metadata": {},
   "source": [
    "And here is the result on Spyder:\n",
    "\n",
    "![image.png](attachment:image.png)"
   ]
  },
  {
   "cell_type": "markdown",
   "metadata": {},
   "source": [
    "## Function 2: ``load_file()`` <a name=\"paragraph2\"></a>\n",
    "\n",
    "Once we have the correct file destination, we can utilize pandas ``pd.read_csv()`` function to read in our file."
   ]
  },
  {
   "cell_type": "code",
   "execution_count": null,
   "metadata": {},
   "outputs": [],
   "source": [
    "def load_file(filename):\n",
    "    \"\"\"\n",
    "    \n",
    "    Attempts to load a csv file. The passed parameter, ``filename``, should be obtained by calling ``find_directory_file()``.\n",
    "    \n",
    "    If you already know the filename, then you could provide your own filename. \n",
    "    \n",
    "    In addition, this function will remove any rows in the data that have no data (NA)\n",
    "\n",
    "    Parameters\n",
    "    ----------\n",
    "    **filename**: string\n",
    "    \n",
    "    Example of how to use this function.\n",
    "        \n",
    "        ``df = load_file('my_file_name.csv')``\n",
    "        \n",
    "    OR you could use the ``find_directory_file()`` function\n",
    "        \n",
    "        ``file_name = find_directory_file(your_file_name.csv)``\n",
    "        \n",
    "        ``df = load_file(file_name)``\n",
    "\n",
    "    Returns\n",
    "    -------\n",
    "    DataFrame\n",
    "        A DataFrame representing the contents of the passed parameter 'filename'\n",
    "\n",
    "    \"\"\"\n",
    "    \n",
    "    df = pd.read_csv(filename)\n",
    "    df.dropna(how='all', inplace=True) # remove rows with no data\n",
    "    return df"
   ]
  },
  {
   "cell_type": "markdown",
   "metadata": {},
   "source": [
    "The above function will read in the file you've placed for the filename parameter. This function can be used in conjuction with our first created function, ``find_directory_file()``. Heres an example:"
   ]
  },
  {
   "cell_type": "code",
   "execution_count": 18,
   "metadata": {},
   "outputs": [
    {
     "name": "stdout",
     "output_type": "stream",
     "text": [
      "Using directory file: vgsales.csv\n"
     ]
    },
    {
     "data": {
      "text/html": [
       "<div>\n",
       "<style scoped>\n",
       "    .dataframe tbody tr th:only-of-type {\n",
       "        vertical-align: middle;\n",
       "    }\n",
       "\n",
       "    .dataframe tbody tr th {\n",
       "        vertical-align: top;\n",
       "    }\n",
       "\n",
       "    .dataframe thead th {\n",
       "        text-align: right;\n",
       "    }\n",
       "</style>\n",
       "<table border=\"1\" class=\"dataframe\">\n",
       "  <thead>\n",
       "    <tr style=\"text-align: right;\">\n",
       "      <th></th>\n",
       "      <th>Rank</th>\n",
       "      <th>Name</th>\n",
       "      <th>Platform</th>\n",
       "      <th>Year</th>\n",
       "      <th>Genre</th>\n",
       "      <th>Publisher</th>\n",
       "      <th>NA_Sales</th>\n",
       "      <th>EU_Sales</th>\n",
       "      <th>JP_Sales</th>\n",
       "      <th>Other_Sales</th>\n",
       "      <th>Global_Sales</th>\n",
       "    </tr>\n",
       "  </thead>\n",
       "  <tbody>\n",
       "    <tr>\n",
       "      <th>16595</th>\n",
       "      <td>16598</td>\n",
       "      <td>SCORE International Baja 1000: The Official Game</td>\n",
       "      <td>PS2</td>\n",
       "      <td>2008.0</td>\n",
       "      <td>Racing</td>\n",
       "      <td>Activision</td>\n",
       "      <td>0.00</td>\n",
       "      <td>0.00</td>\n",
       "      <td>0.0</td>\n",
       "      <td>0.0</td>\n",
       "      <td>0.01</td>\n",
       "    </tr>\n",
       "    <tr>\n",
       "      <th>16596</th>\n",
       "      <td>16599</td>\n",
       "      <td>Know How 2</td>\n",
       "      <td>DS</td>\n",
       "      <td>2010.0</td>\n",
       "      <td>Puzzle</td>\n",
       "      <td>7G//AMES</td>\n",
       "      <td>0.00</td>\n",
       "      <td>0.01</td>\n",
       "      <td>0.0</td>\n",
       "      <td>0.0</td>\n",
       "      <td>0.01</td>\n",
       "    </tr>\n",
       "    <tr>\n",
       "      <th>16597</th>\n",
       "      <td>16600</td>\n",
       "      <td>Spirits &amp; Spells</td>\n",
       "      <td>GBA</td>\n",
       "      <td>2003.0</td>\n",
       "      <td>Platform</td>\n",
       "      <td>Wanadoo</td>\n",
       "      <td>0.01</td>\n",
       "      <td>0.00</td>\n",
       "      <td>0.0</td>\n",
       "      <td>0.0</td>\n",
       "      <td>0.01</td>\n",
       "    </tr>\n",
       "  </tbody>\n",
       "</table>\n",
       "</div>"
      ],
      "text/plain": [
       "        Rank                                              Name Platform  \\\n",
       "16595  16598  SCORE International Baja 1000: The Official Game      PS2   \n",
       "16596  16599                                        Know How 2       DS   \n",
       "16597  16600                                  Spirits & Spells      GBA   \n",
       "\n",
       "         Year     Genre   Publisher  NA_Sales  EU_Sales  JP_Sales  \\\n",
       "16595  2008.0    Racing  Activision      0.00      0.00       0.0   \n",
       "16596  2010.0    Puzzle    7G//AMES      0.00      0.01       0.0   \n",
       "16597  2003.0  Platform     Wanadoo      0.01      0.00       0.0   \n",
       "\n",
       "       Other_Sales  Global_Sales  \n",
       "16595          0.0          0.01  \n",
       "16596          0.0          0.01  \n",
       "16597          0.0          0.01  "
      ]
     },
     "execution_count": 18,
     "metadata": {},
     "output_type": "execute_result"
    }
   ],
   "source": [
    "# If you're file name is vgsales.csv, you can do the following:\n",
    "\n",
    "# Step 1: Call find_directory_file to find the correct folder path. Place the result into the variable file_location\n",
    "file_location = find_directory_file('vgsales')\n",
    "\n",
    "# Step 2: Utilize load_file to read-in the file\n",
    "df = load_file(file_location)\n",
    "\n",
    "df.tail(3)"
   ]
  },
  {
   "cell_type": "markdown",
   "metadata": {},
   "source": [
    "## Appendix: Full Code for Functions <a name=\"paragraph3\"></a>\n",
    "\n",
    "You can find the full code for the two functions created in this Notebook:"
   ]
  },
  {
   "cell_type": "code",
   "execution_count": 11,
   "metadata": {},
   "outputs": [],
   "source": [
    "def find_directory_file(string_search=''):\n",
    "    \"\"\"\n",
    "    \n",
    "    Attempts to find a file in your current directory folder. It will use the passed parameter, ``search_string`` on all files in your directory folder.\n",
    "    \n",
    "    You do not need to ensure the whole file name is inputted into the ``search_string`` parameter, only a portion is needed if the name is unique enough.\n",
    "    \n",
    "    If there is more than one file found, it will use the most recent file based on the \"Modified time\" according to your operating system's timestamp on the file\n",
    "    \n",
    "    Parameters\n",
    "    ----------\n",
    "    **string_search** : string\n",
    "    \n",
    "    \n",
    "    Example of how to use this function.\n",
    "    \n",
    "        ``games_file = find_directory_file(my_data_file)``\n",
    "    \n",
    "    If you work with files that is appended the date at the end based on when you've extracted it, then you could omit the date portion of the file.\n",
    "   \n",
    "    As an example, if you have a file named Games_Jan252020.csv, you could do the following.\n",
    "        \n",
    "        ``games_file = find_directory_file(Games_)``\n",
    "\n",
    "    Returns\n",
    "    -------\n",
    "    string\n",
    "        The path and filename of the file if found, otherwise, an exception will be raised.\n",
    "\n",
    "    \"\"\"\n",
    "    \n",
    "    csv_file_list = glob.glob(DIRECTORY_LOCATION + \"\\*.csv\") # use glob to match filename\n",
    "    files_list = [i for i in csv_file_list if string_search in i]\n",
    "    num_found_files = len(files_list)\n",
    "    \n",
    "    # Situation 1: no files found\n",
    "    if num_found_files == 0:\n",
    "        raise Exception(f'Could not find the {string_search} file in your directory folder.')\n",
    "        \n",
    "    # Situation 2: more than one matching found\n",
    "    elif num_found_files > 1:\n",
    "        files_list.sort(key=lambda x: os.path.getmtime(x), reverse=True) # use the most recent file\n",
    "        print(f'Found more than one {string_search} file. Will use the most recent file based on \"Date Modified\" on your computer.')\n",
    "        directory, file = os.path.split(files_list[0])\n",
    "        print(f'Using directory file: {file}')\n",
    "        return files_list[0]\n",
    "    \n",
    "    # Situation 3: one file found\n",
    "    else:\n",
    "        directory, file = os.path.split(files_list[0])\n",
    "        print(f'Using directory file: {file}')\n",
    "        return files_list[0]\n",
    "    \n",
    "    print()"
   ]
  },
  {
   "cell_type": "code",
   "execution_count": 12,
   "metadata": {},
   "outputs": [],
   "source": [
    "def load_file(filename):\n",
    "    \"\"\"\n",
    "    \n",
    "    Attempts to load a csv file. The passed parameter, ``filename``, should be obtained by calling ``find_directory_file()``.\n",
    "    \n",
    "    If you already know the filename, then you could provide your own filename. \n",
    "    \n",
    "    In addition, this function will remove any rows in the data that have no data (NA)\n",
    "\n",
    "    Parameters\n",
    "    ----------\n",
    "    **filename**: string\n",
    "    \n",
    "    Example of how to use this function.\n",
    "        \n",
    "        ``df = load_file('my_file_name.csv')``\n",
    "        \n",
    "    OR you could use the ``find_directory_file()`` function\n",
    "        \n",
    "        ``file_name = find_directory_file(your_file_name.csv)``\n",
    "        \n",
    "        ``df = load_file(file_name)``\n",
    "\n",
    "    Returns\n",
    "    -------\n",
    "    DataFrame\n",
    "        A DataFrame representing the contents of the passed parameter 'filename'\n",
    "\n",
    "    \"\"\"\n",
    "    \n",
    "    df = pd.read_csv(filename)\n",
    "    df.dropna(how='all', inplace=True) # remove rows with no data\n",
    "    return df"
   ]
  }
 ],
 "metadata": {
  "kernelspec": {
   "display_name": "Python 3",
   "language": "python",
   "name": "python3"
  },
  "language_info": {
   "codemirror_mode": {
    "name": "ipython",
    "version": 3
   },
   "file_extension": ".py",
   "mimetype": "text/x-python",
   "name": "python",
   "nbconvert_exporter": "python",
   "pygments_lexer": "ipython3",
   "version": "3.7.7"
  }
 },
 "nbformat": 4,
 "nbformat_minor": 4
}
